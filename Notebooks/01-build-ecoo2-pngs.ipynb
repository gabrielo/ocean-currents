{
 "cells": [
  {
   "cell_type": "code",
   "execution_count": 17,
   "metadata": {
    "collapsed": true
   },
   "outputs": [],
   "source": [
    "import glob, math, os\n",
    "import numpy as np\n",
    "from netCDF4 import Dataset\n",
    "from PIL import Image\n",
    "import numpy.ma as ma\n"
   ]
  },
  {
   "cell_type": "code",
   "execution_count": 2,
   "metadata": {
    "collapsed": true
   },
   "outputs": [],
   "source": [
    "def save_png(ufname, vfname, ofname):\n",
    "    uvel = Dataset(ufname)\n",
    "    vvel = Dataset(vfname)\n",
    "    u = {'values': [], 'minimum': 0.0, 'maximum': 0.0}\n",
    "    v = {'values': [], 'minimum': 0.0, 'maximum': 0.0}\n",
    "    u['values'] = uvel.variables[\"UVEL\"][0][0].flatten()\n",
    "    v['values'] = vvel.variables[\"VVEL\"][0][0].flatten()\n",
    "    u['minimum'] = u['values'].min()\n",
    "    u['maximum'] = u['values'].max()\n",
    "    v['minimum'] = v['values'].min()\n",
    "    v['maximum'] = v['values'].max()\n",
    "    z = {'values': [], 'minimum': 0.0, 'maximum': 0.0}\n",
    "    z[\"values\"] = np.sqrt(u[\"values\"] * u[\"values\"] + v[\"values\"] * v[\"values\"])\n",
    "    z['minimum'] = z['values'].min()\n",
    "    z['maximum'] = z['values'].max()\n",
    "    height = 720\n",
    "    width = 1440\n",
    "    img = Image.new('RGB', (1440,720))\n",
    "    data = img.load()\n",
    "    for y in range(height):\n",
    "        for x in range(width):\n",
    "            i = (y * width + x) * 4;\n",
    "            k = y * width + (x + width / 2) % width;\n",
    "            if u[\"values\"][k] == 0.0:\n",
    "                r = 0.0\n",
    "                g = 0.0\n",
    "                b = 0.0\n",
    "            elif v[\"values\"][k] == 0.0:\n",
    "                r = 0.0\n",
    "                g = 0.0\n",
    "                b = 0.0\n",
    "            else:\n",
    "                r = g = b = math.floor(255 * (z[\"values\"][k] - z[\"minimum\"]) / (z[\"maximum\"] - z[\"minimum\"]))\n",
    "            a = 255\n",
    "            data[x,height - 1 - y] = (int(r),int(g),int(b), int(a)) \n",
    "    img.save(ofname)\n",
    "    \n",
    "def get_ofname(fname):\n",
    "    return fname.replace('../data/raw/ECCO2/UVEL.1440x720x50.','').replace('.nc', '.png')"
   ]
  },
  {
   "cell_type": "code",
   "execution_count": 12,
   "metadata": {},
   "outputs": [],
   "source": [
    "try:\n",
    "    os.makedirs(\"../data/png/ECCO2/\")\n",
    "except e:\n",
    "    pass"
   ]
  },
  {
   "cell_type": "code",
   "execution_count": 19,
   "metadata": {
    "collapsed": true
   },
   "outputs": [],
   "source": [
    "ulist = sorted(glob.glob(\"../data/raw/ECCO2/UVEL*\"))\n",
    "vlist = sorted(glob.glob(\"../data/raw/ECCO2/VVEL*\"))\n",
    "for i in range(len(ulist)):\n",
    "    save_png(ulist[i], \n",
    "             vlist[i], \n",
    "             os.path.join(\"../data/png/ECCO2/\", get_ofname(ulist[i])))    "
   ]
  },
  {
   "cell_type": "code",
   "execution_count": 13,
   "metadata": {},
   "outputs": [
    {
     "data": {
      "text/plain": [
       "('../data/raw/ECCO2/UVEL.1440x720x50.19920102.nc',\n",
       " '../data/raw/ECCO2/VVEL.1440x720x50.19920102.nc',\n",
       " '../data/png/ECCO2/19920102.png')"
      ]
     },
     "execution_count": 13,
     "metadata": {},
     "output_type": "execute_result"
    }
   ],
   "source": [
    "ulist[0], vlist[0], os.path.join(\"../data/png/ECCO2/\", get_ofname(ulist[0]))"
   ]
  },
  {
   "cell_type": "code",
   "execution_count": 18,
   "metadata": {},
   "outputs": [],
   "source": [
    "save_png(ulist[0], \n",
    "         vlist[0], \n",
    "         os.path.join(\"../data/png/ECCO2/\", get_ofname(ulist[0])))"
   ]
  },
  {
   "cell_type": "code",
   "execution_count": 9,
   "metadata": {},
   "outputs": [
    {
     "data": {
      "text/plain": [
       "'19920102.png'"
      ]
     },
     "execution_count": 9,
     "metadata": {},
     "output_type": "execute_result"
    }
   ],
   "source": []
  },
  {
   "cell_type": "code",
   "execution_count": null,
   "metadata": {
    "collapsed": true
   },
   "outputs": [],
   "source": []
  }
 ],
 "metadata": {
  "kernelspec": {
   "display_name": "Python 2",
   "language": "python",
   "name": "python2"
  },
  "language_info": {
   "codemirror_mode": {
    "name": "ipython",
    "version": 2
   },
   "file_extension": ".py",
   "mimetype": "text/x-python",
   "name": "python",
   "nbconvert_exporter": "python",
   "pygments_lexer": "ipython2",
   "version": "2.7.13"
  }
 },
 "nbformat": 4,
 "nbformat_minor": 2
}
