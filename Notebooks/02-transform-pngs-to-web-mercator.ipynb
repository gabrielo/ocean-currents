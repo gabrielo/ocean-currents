{
 "cells": [
  {
   "cell_type": "code",
   "execution_count": 3,
   "metadata": {
    "collapsed": true
   },
   "outputs": [],
   "source": [
    "import glob, os"
   ]
  },
  {
   "cell_type": "code",
   "execution_count": 52,
   "metadata": {
    "collapsed": true
   },
   "outputs": [],
   "source": [
    "def to_epsg3857(fname):\n",
    "    basestr = os.path.basename(fname).replace(\".png\",\"\")\n",
    "    cmd = \"rm -f ../data/png/ECCO2/%s*.tif*\" % basestr\n",
    "    !$cmd\n",
    "    cmd = 'gdal_translate -q -of GTiff -a_ullr -180 90 180 -90 -a_srs EPSG:4326 %s %s' % (fname, fname.replace('.png', '.tif'))\n",
    "    !$cmd\n",
    "    cmd = 'gdalwarp -q -s_srs EPSG:4326 -t_srs EPSG:3857 -te -20037508.34 -20037508.34 20037508.34 20037508.34 -ts 1440 1440 -r lanczos %s %s' % (fname.replace('.png', '.tif'), fname.replace('.png', '-3857.tif'))\n",
    "    !$cmd\n",
    "    cmd = 'gdal_translate -q -of PNG %s %s' % (fname.replace('.png', '-3857.tif'), os.path.join(\"../data/png/ECCO2/3857\", os.path.basename(fname)))\n",
    "    !$cmd"
   ]
  },
  {
   "cell_type": "code",
   "execution_count": 48,
   "metadata": {},
   "outputs": [],
   "source": [
    "pnglist = glob.glob(\"../data/png/ECCO2/*.png\")"
   ]
  },
  {
   "cell_type": "code",
   "execution_count": 49,
   "metadata": {},
   "outputs": [],
   "source": [
    "try:\n",
    "    os.makedirs(\"../data/png/ECCO2/3857\")\n",
    "except:\n",
    "    pass"
   ]
  },
  {
   "cell_type": "code",
   "execution_count": 50,
   "metadata": {},
   "outputs": [
    {
     "data": {
      "text/plain": [
       "'../data/png/ECCO2/3857/19920102.png'"
      ]
     },
     "execution_count": 50,
     "metadata": {},
     "output_type": "execute_result"
    }
   ],
   "source": [
    "os.path.join(\"../data/png/ECCO2/3857\", os.path.basename(pnglist[0]))"
   ]
  },
  {
   "cell_type": "code",
   "execution_count": 53,
   "metadata": {},
   "outputs": [],
   "source": [
    "to_epsg3857(pnglist[0])"
   ]
  },
  {
   "cell_type": "code",
   "execution_count": 55,
   "metadata": {},
   "outputs": [],
   "source": [
    "for fname in pnglist:\n",
    "    to_epsg3857(fname)"
   ]
  },
  {
   "cell_type": "code",
   "execution_count": null,
   "metadata": {
    "collapsed": true
   },
   "outputs": [],
   "source": []
  }
 ],
 "metadata": {
  "kernelspec": {
   "display_name": "Python 2",
   "language": "python",
   "name": "python2"
  },
  "language_info": {
   "codemirror_mode": {
    "name": "ipython",
    "version": 2
   },
   "file_extension": ".py",
   "mimetype": "text/x-python",
   "name": "python",
   "nbconvert_exporter": "python",
   "pygments_lexer": "ipython2",
   "version": "2.7.13"
  }
 },
 "nbformat": 4,
 "nbformat_minor": 2
}
